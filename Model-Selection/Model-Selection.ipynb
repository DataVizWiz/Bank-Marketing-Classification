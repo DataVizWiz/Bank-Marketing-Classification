{
 "cells": [
  {
   "cell_type": "code",
   "execution_count": 1,
   "id": "aef0e155-83a8-42aa-b584-c57784e5fbcc",
   "metadata": {},
   "outputs": [],
   "source": [
    "import pandas as pd\n",
    "import numpy as np"
   ]
  },
  {
   "cell_type": "code",
   "execution_count": 77,
   "id": "c0c3bd09-2068-4b29-8f4c-9200c494e20b",
   "metadata": {},
   "outputs": [],
   "source": [
    "X_train = pd.read_csv('data/train/x_train.csv')\n",
    "X_test = pd.read_csv('data/test/x_test.csv')\n",
    "y_train = pd.read_csv('data/train/y_train.csv')\n",
    "y_test = pd.read_csv('data/test/y_test.csv')\n",
    "\n",
    "X_train = X_train.values\n",
    "X_test = X_test.values\n",
    "y_train = y_train.values.ravel()\n",
    "y_test = y_test.values.ravel()"
   ]
  },
  {
   "cell_type": "markdown",
   "id": "4ddb05b8-4969-4032-935a-776ba859cff3",
   "metadata": {},
   "source": [
    "## Training the Logistic Regression model"
   ]
  },
  {
   "cell_type": "code",
   "execution_count": 78,
   "id": "c86cc982-edd9-43c6-b3e1-df157456fcca",
   "metadata": {},
   "outputs": [
    {
     "name": "stdout",
     "output_type": "stream",
     "text": [
      "Prediction of observation 5 in the test data: [0]\n"
     ]
    }
   ],
   "source": [
    "from sklearn.linear_model import LogisticRegression\n",
    "\n",
    "lr_clf = LogisticRegression(random_state=0, solver='lbfgs', max_iter=130)\n",
    "lr_clf.fit(X_train, y_train)\n",
    "\n",
    "print('Prediction of observation 5 in the test data: {}'.format(lr_clf.predict(X_test[[6]])))"
   ]
  },
  {
   "cell_type": "code",
   "execution_count": 79,
   "id": "c65b4dfd-1373-4c32-901a-d277475688ec",
   "metadata": {},
   "outputs": [
    {
     "data": {
      "text/html": [
       "<div>\n",
       "<style scoped>\n",
       "    .dataframe tbody tr th:only-of-type {\n",
       "        vertical-align: middle;\n",
       "    }\n",
       "\n",
       "    .dataframe tbody tr th {\n",
       "        vertical-align: top;\n",
       "    }\n",
       "\n",
       "    .dataframe thead tr th {\n",
       "        text-align: left;\n",
       "    }\n",
       "</style>\n",
       "<table border=\"1\" class=\"dataframe\">\n",
       "  <thead>\n",
       "    <tr>\n",
       "      <th></th>\n",
       "      <th></th>\n",
       "      <th colspan=\"2\" halign=\"left\">Prediction</th>\n",
       "    </tr>\n",
       "    <tr>\n",
       "      <th></th>\n",
       "      <th></th>\n",
       "      <th>Negative</th>\n",
       "      <th>Positive</th>\n",
       "    </tr>\n",
       "  </thead>\n",
       "  <tbody>\n",
       "    <tr>\n",
       "      <th rowspan=\"2\" valign=\"top\">Actual</th>\n",
       "      <th>Negative</th>\n",
       "      <td>7899</td>\n",
       "      <td>94</td>\n",
       "    </tr>\n",
       "    <tr>\n",
       "      <th>Positive</th>\n",
       "      <td>867</td>\n",
       "      <td>183</td>\n",
       "    </tr>\n",
       "  </tbody>\n",
       "</table>\n",
       "</div>"
      ],
      "text/plain": [
       "                Prediction         \n",
       "                  Negative Positive\n",
       "Actual Negative       7899       94\n",
       "       Positive        867      183"
      ]
     },
     "execution_count": 79,
     "metadata": {},
     "output_type": "execute_result"
    }
   ],
   "source": [
    "y_pred_lr = lr_clf.predict(X_test)\n",
    "\n",
    "from sklearn.metrics import confusion_matrix, accuracy_score, precision_score\n",
    "\n",
    "pd.DataFrame(\n",
    "    confusion_matrix(y_test, y_pred_lr),\n",
    "    columns=pd.MultiIndex.from_product([['Prediction'], ['Negative', 'Positive']]),\n",
    "    index=pd.MultiIndex.from_product([['Actual'], ['Negative', 'Positive']])\n",
    ")"
   ]
  },
  {
   "cell_type": "code",
   "execution_count": 80,
   "id": "bb30e24d-784e-4ea6-8db0-b85c99d24c64",
   "metadata": {},
   "outputs": [
    {
     "name": "stdout",
     "output_type": "stream",
     "text": [
      "7899 records were correctly predicted negative (true negative)\n",
      "183 records were correctly predicted positive (true positives)\n",
      "867 records were incorrectly predicted negative (false negative)\n",
      "94 records were incorrectly predicted positive (false positive)\n",
      "-----------------------------\n",
      "Accuracy: 89.37%\n",
      "Precision: 66.06%\n"
     ]
    }
   ],
   "source": [
    "tn, fp, fn, tp = confusion_matrix(y_test, y_pred_lr).ravel()\n",
    "print('{} records were correctly predicted negative (true negative)'.format(tn))\n",
    "print('{} records were correctly predicted positive (true positives)'.format(tp))\n",
    "print('{} records were incorrectly predicted negative (false negative)'.format(fn))\n",
    "print('{} records were incorrectly predicted positive (false positive)'.format(fp))\n",
    "print('-----------------------------')\n",
    "print('Accuracy: {:.2f}%'.format(accuracy_score(y_test, y_pred_lr) * 100))\n",
    "print('Precision: {:.2f}%'.format(precision_score(y_test, y_pred_lr) * 100))"
   ]
  },
  {
   "cell_type": "markdown",
   "id": "1135efc2-75cb-4631-865c-62081aa0d363",
   "metadata": {},
   "source": [
    "## Training the K-NN model"
   ]
  },
  {
   "cell_type": "code",
   "execution_count": 86,
   "id": "079b9234-f5ae-408e-abe6-9118b8ee162d",
   "metadata": {},
   "outputs": [
    {
     "name": "stdout",
     "output_type": "stream",
     "text": [
      "Prediction of observation 5 in the test data: [0]\n"
     ]
    }
   ],
   "source": [
    "from sklearn.neighbors import KNeighborsClassifier\n",
    "\n",
    "knn_clf = KNeighborsClassifier(n_neighbors=5, weights='uniform', metric='minkowski', p=2)\n",
    "knn_clf.fit(X_train, y_train)\n",
    "\n",
    "print('Prediction of observation 5 in the test data: {}'.format(knn_clf.predict(X_test[[6]])))"
   ]
  },
  {
   "cell_type": "code",
   "execution_count": 82,
   "id": "6e153f2e-627e-40ba-ab92-ff80d33e608d",
   "metadata": {},
   "outputs": [
    {
     "data": {
      "text/html": [
       "<div>\n",
       "<style scoped>\n",
       "    .dataframe tbody tr th:only-of-type {\n",
       "        vertical-align: middle;\n",
       "    }\n",
       "\n",
       "    .dataframe tbody tr th {\n",
       "        vertical-align: top;\n",
       "    }\n",
       "\n",
       "    .dataframe thead tr th {\n",
       "        text-align: left;\n",
       "    }\n",
       "</style>\n",
       "<table border=\"1\" class=\"dataframe\">\n",
       "  <thead>\n",
       "    <tr>\n",
       "      <th></th>\n",
       "      <th></th>\n",
       "      <th colspan=\"2\" halign=\"left\">Prediction</th>\n",
       "    </tr>\n",
       "    <tr>\n",
       "      <th></th>\n",
       "      <th></th>\n",
       "      <th>Negative</th>\n",
       "      <th>Positive</th>\n",
       "    </tr>\n",
       "  </thead>\n",
       "  <tbody>\n",
       "    <tr>\n",
       "      <th rowspan=\"2\" valign=\"top\">Actual</th>\n",
       "      <th>Negative</th>\n",
       "      <td>7811</td>\n",
       "      <td>182</td>\n",
       "    </tr>\n",
       "    <tr>\n",
       "      <th>Positive</th>\n",
       "      <td>852</td>\n",
       "      <td>198</td>\n",
       "    </tr>\n",
       "  </tbody>\n",
       "</table>\n",
       "</div>"
      ],
      "text/plain": [
       "                Prediction         \n",
       "                  Negative Positive\n",
       "Actual Negative       7811      182\n",
       "       Positive        852      198"
      ]
     },
     "execution_count": 82,
     "metadata": {},
     "output_type": "execute_result"
    }
   ],
   "source": [
    "y_pred_knn = knn_clf.predict(X_test)\n",
    "\n",
    "pd.DataFrame(\n",
    "    confusion_matrix(y_test, y_pred_knn),\n",
    "    columns=pd.MultiIndex.from_product([['Prediction'], ['Negative', 'Positive']]),\n",
    "    index=pd.MultiIndex.from_product([['Actual'], ['Negative', 'Positive']])\n",
    ")"
   ]
  },
  {
   "cell_type": "code",
   "execution_count": 84,
   "id": "12ac9c33-d328-4b02-baa2-a56714a72618",
   "metadata": {},
   "outputs": [
    {
     "name": "stdout",
     "output_type": "stream",
     "text": [
      "7811 records were correctly predicted negative (true negative)\n",
      "198 records were correctly predicted positive (true positives)\n",
      "852 records were incorrectly predicted negative (false negative)\n",
      "182 records were incorrectly predicted positive (false positive)\n",
      "-----------------------------\n",
      "Accuracy: 88.57%\n",
      "Precision: 52.11%\n"
     ]
    }
   ],
   "source": [
    "tn, fp, fn, tp = confusion_matrix(y_test, y_pred_knn).ravel()\n",
    "print('{} records were correctly predicted negative (true negative)'.format(tn))\n",
    "print('{} records were correctly predicted positive (true positives)'.format(tp))\n",
    "print('{} records were incorrectly predicted negative (false negative)'.format(fn))\n",
    "print('{} records were incorrectly predicted positive (false positive)'.format(fp))\n",
    "print('-----------------------------')\n",
    "print('Accuracy: {:.2f}%'.format(accuracy_score(y_test, y_pred_knn) * 100))\n",
    "print('Precision: {:.2f}%'.format(precision_score(y_test, y_pred_knn) * 100))"
   ]
  },
  {
   "cell_type": "markdown",
   "id": "5c069ffa-6350-4fb1-a212-405e13734e02",
   "metadata": {},
   "source": [
    "## Training the SVM model"
   ]
  },
  {
   "cell_type": "code",
   "execution_count": 87,
   "id": "6dab19e0-ccfc-4dcf-8ed7-04857c3c918a",
   "metadata": {},
   "outputs": [
    {
     "name": "stdout",
     "output_type": "stream",
     "text": [
      "Prediction of observation 5 in the test data: [0]\n"
     ]
    }
   ],
   "source": [
    "from sklearn.svm import SVC\n",
    "\n",
    "svm_clf = SVC(kernel='linear', random_state=0)\n",
    "svm_clf.fit(X_train, y_train)\n",
    "\n",
    "print('Prediction of observation 5 in the test data: {}'.format(svm_clf.predict(X_test[[6]])))"
   ]
  },
  {
   "cell_type": "code",
   "execution_count": 88,
   "id": "74292d4d-d3dd-466b-88b3-6417dcb421fd",
   "metadata": {},
   "outputs": [
    {
     "data": {
      "text/html": [
       "<div>\n",
       "<style scoped>\n",
       "    .dataframe tbody tr th:only-of-type {\n",
       "        vertical-align: middle;\n",
       "    }\n",
       "\n",
       "    .dataframe tbody tr th {\n",
       "        vertical-align: top;\n",
       "    }\n",
       "\n",
       "    .dataframe thead tr th {\n",
       "        text-align: left;\n",
       "    }\n",
       "</style>\n",
       "<table border=\"1\" class=\"dataframe\">\n",
       "  <thead>\n",
       "    <tr>\n",
       "      <th></th>\n",
       "      <th></th>\n",
       "      <th colspan=\"2\" halign=\"left\">Prediction</th>\n",
       "    </tr>\n",
       "    <tr>\n",
       "      <th></th>\n",
       "      <th></th>\n",
       "      <th>Negative</th>\n",
       "      <th>Positive</th>\n",
       "    </tr>\n",
       "  </thead>\n",
       "  <tbody>\n",
       "    <tr>\n",
       "      <th rowspan=\"2\" valign=\"top\">Actual</th>\n",
       "      <th>Negative</th>\n",
       "      <td>7883</td>\n",
       "      <td>110</td>\n",
       "    </tr>\n",
       "    <tr>\n",
       "      <th>Positive</th>\n",
       "      <td>846</td>\n",
       "      <td>204</td>\n",
       "    </tr>\n",
       "  </tbody>\n",
       "</table>\n",
       "</div>"
      ],
      "text/plain": [
       "                Prediction         \n",
       "                  Negative Positive\n",
       "Actual Negative       7883      110\n",
       "       Positive        846      204"
      ]
     },
     "execution_count": 88,
     "metadata": {},
     "output_type": "execute_result"
    }
   ],
   "source": [
    "y_pred_svm = svm_clf.predict(X_test)\n",
    "\n",
    "pd.DataFrame(\n",
    "    confusion_matrix(y_test, y_pred_svm),\n",
    "    columns=pd.MultiIndex.from_product([['Prediction'], ['Negative', 'Positive']]),\n",
    "    index=pd.MultiIndex.from_product([['Actual'], ['Negative', 'Positive']])\n",
    ")"
   ]
  },
  {
   "cell_type": "code",
   "execution_count": 89,
   "id": "316aa8f2-8a3a-49e6-b326-6b05328def25",
   "metadata": {},
   "outputs": [
    {
     "name": "stdout",
     "output_type": "stream",
     "text": [
      "7883 records were correctly predicted negative (true negative)\n",
      "204 records were correctly predicted positive (true positives)\n",
      "846 records were incorrectly predicted negative (false negative)\n",
      "110 records were incorrectly predicted positive (false positive)\n",
      "-----------------------------\n",
      "Accuracy: 89.43%\n",
      "Precision: 64.97%\n"
     ]
    }
   ],
   "source": [
    "tn, fp, fn, tp = confusion_matrix(y_test, y_pred_svm).ravel()\n",
    "print('{} records were correctly predicted negative (true negative)'.format(tn))\n",
    "print('{} records were correctly predicted positive (true positives)'.format(tp))\n",
    "print('{} records were incorrectly predicted negative (false negative)'.format(fn))\n",
    "print('{} records were incorrectly predicted positive (false positive)'.format(fp))\n",
    "print('-----------------------------')\n",
    "print('Accuracy: {:.2f}%'.format(accuracy_score(y_test, y_pred_svm) * 100))\n",
    "print('Precision: {:.2f}%'.format(precision_score(y_test, y_pred_svm) * 100))"
   ]
  },
  {
   "cell_type": "markdown",
   "id": "a792857f-1b3c-459b-9e32-c45190d65f1a",
   "metadata": {},
   "source": [
    "## Training the Kernel SVM model"
   ]
  },
  {
   "cell_type": "code",
   "execution_count": 90,
   "id": "cb4f3f9b-b09a-406f-a6bd-779466c82769",
   "metadata": {},
   "outputs": [
    {
     "name": "stdout",
     "output_type": "stream",
     "text": [
      "Prediction of observation 5 in the test data: [0]\n"
     ]
    }
   ],
   "source": [
    "from sklearn.svm import SVC\n",
    "\n",
    "ksvm_clf = SVC(kernel='rbf', random_state=0)\n",
    "ksvm_clf.fit(X_train, y_train)\n",
    "\n",
    "print('Prediction of observation 5 in the test data: {}'.format(ksvm_clf.predict(X_test[[6]])))"
   ]
  },
  {
   "cell_type": "code",
   "execution_count": 91,
   "id": "a872557b-dae3-4858-ab69-e8233ab5ad75",
   "metadata": {},
   "outputs": [
    {
     "data": {
      "text/html": [
       "<div>\n",
       "<style scoped>\n",
       "    .dataframe tbody tr th:only-of-type {\n",
       "        vertical-align: middle;\n",
       "    }\n",
       "\n",
       "    .dataframe tbody tr th {\n",
       "        vertical-align: top;\n",
       "    }\n",
       "\n",
       "    .dataframe thead tr th {\n",
       "        text-align: left;\n",
       "    }\n",
       "</style>\n",
       "<table border=\"1\" class=\"dataframe\">\n",
       "  <thead>\n",
       "    <tr>\n",
       "      <th></th>\n",
       "      <th></th>\n",
       "      <th colspan=\"2\" halign=\"left\">Prediction</th>\n",
       "    </tr>\n",
       "    <tr>\n",
       "      <th></th>\n",
       "      <th></th>\n",
       "      <th>Negative</th>\n",
       "      <th>Positive</th>\n",
       "    </tr>\n",
       "  </thead>\n",
       "  <tbody>\n",
       "    <tr>\n",
       "      <th rowspan=\"2\" valign=\"top\">Actual</th>\n",
       "      <th>Negative</th>\n",
       "      <td>7885</td>\n",
       "      <td>108</td>\n",
       "    </tr>\n",
       "    <tr>\n",
       "      <th>Positive</th>\n",
       "      <td>846</td>\n",
       "      <td>204</td>\n",
       "    </tr>\n",
       "  </tbody>\n",
       "</table>\n",
       "</div>"
      ],
      "text/plain": [
       "                Prediction         \n",
       "                  Negative Positive\n",
       "Actual Negative       7885      108\n",
       "       Positive        846      204"
      ]
     },
     "execution_count": 91,
     "metadata": {},
     "output_type": "execute_result"
    }
   ],
   "source": [
    "y_pred_ksvm = ksvm_clf.predict(X_test)\n",
    "\n",
    "pd.DataFrame(\n",
    "    confusion_matrix(y_test, y_pred_ksvm),\n",
    "    columns=pd.MultiIndex.from_product([['Prediction'], ['Negative', 'Positive']]),\n",
    "    index=pd.MultiIndex.from_product([['Actual'], ['Negative', 'Positive']])\n",
    ")"
   ]
  },
  {
   "cell_type": "code",
   "execution_count": 92,
   "id": "6f4890d4-9e23-4ae7-a1d7-9a0767ba9359",
   "metadata": {},
   "outputs": [
    {
     "name": "stdout",
     "output_type": "stream",
     "text": [
      "7885 records were correctly predicted negative (true negative)\n",
      "204 records were correctly predicted positive (true positives)\n",
      "846 records were incorrectly predicted negative (false negative)\n",
      "108 records were incorrectly predicted positive (false positive)\n",
      "-----------------------------\n",
      "Accuracy: 89.45%\n",
      "Precision: 65.38%\n"
     ]
    }
   ],
   "source": [
    "tn, fp, fn, tp = confusion_matrix(y_test, y_pred_ksvm).ravel()\n",
    "print('{} records were correctly predicted negative (true negative)'.format(tn))\n",
    "print('{} records were correctly predicted positive (true positives)'.format(tp))\n",
    "print('{} records were incorrectly predicted negative (false negative)'.format(fn))\n",
    "print('{} records were incorrectly predicted positive (false positive)'.format(fp))\n",
    "print('-----------------------------')\n",
    "print('Accuracy: {:.2f}%'.format(accuracy_score(y_test, y_pred_ksvm) * 100))\n",
    "print('Precision: {:.2f}%'.format(precision_score(y_test, y_pred_ksvm) * 100))"
   ]
  },
  {
   "cell_type": "markdown",
   "id": "1ea7489e-5e21-46a2-9928-43a7cb5c2929",
   "metadata": {},
   "source": [
    "## Training the Naive Bayes model"
   ]
  },
  {
   "cell_type": "code",
   "execution_count": 93,
   "id": "b926211e-c7be-4201-b471-8b89c79de0e2",
   "metadata": {},
   "outputs": [
    {
     "name": "stdout",
     "output_type": "stream",
     "text": [
      "Prediction of observation 5 in the test data: [0]\n"
     ]
    }
   ],
   "source": [
    "from sklearn.naive_bayes import GaussianNB\n",
    "\n",
    "gnb_clf = GaussianNB()\n",
    "gnb_clf.fit(X_train, y_train)\n",
    "\n",
    "print('Prediction of observation 5 in the test data: {}'.format(gnb_clf.predict(X_test[[6]])))"
   ]
  },
  {
   "cell_type": "code",
   "execution_count": 94,
   "id": "6dde15fb-4e28-480d-8e01-3c59f7f124ba",
   "metadata": {},
   "outputs": [
    {
     "data": {
      "text/html": [
       "<div>\n",
       "<style scoped>\n",
       "    .dataframe tbody tr th:only-of-type {\n",
       "        vertical-align: middle;\n",
       "    }\n",
       "\n",
       "    .dataframe tbody tr th {\n",
       "        vertical-align: top;\n",
       "    }\n",
       "\n",
       "    .dataframe thead tr th {\n",
       "        text-align: left;\n",
       "    }\n",
       "</style>\n",
       "<table border=\"1\" class=\"dataframe\">\n",
       "  <thead>\n",
       "    <tr>\n",
       "      <th></th>\n",
       "      <th></th>\n",
       "      <th colspan=\"2\" halign=\"left\">Prediction</th>\n",
       "    </tr>\n",
       "    <tr>\n",
       "      <th></th>\n",
       "      <th></th>\n",
       "      <th>Negative</th>\n",
       "      <th>Positive</th>\n",
       "    </tr>\n",
       "  </thead>\n",
       "  <tbody>\n",
       "    <tr>\n",
       "      <th rowspan=\"2\" valign=\"top\">Actual</th>\n",
       "      <th>Negative</th>\n",
       "      <td>6691</td>\n",
       "      <td>1302</td>\n",
       "    </tr>\n",
       "    <tr>\n",
       "      <th>Positive</th>\n",
       "      <td>569</td>\n",
       "      <td>481</td>\n",
       "    </tr>\n",
       "  </tbody>\n",
       "</table>\n",
       "</div>"
      ],
      "text/plain": [
       "                Prediction         \n",
       "                  Negative Positive\n",
       "Actual Negative       6691     1302\n",
       "       Positive        569      481"
      ]
     },
     "execution_count": 94,
     "metadata": {},
     "output_type": "execute_result"
    }
   ],
   "source": [
    "y_pred_gnb = gnb_clf.predict(X_test)\n",
    "\n",
    "pd.DataFrame(\n",
    "    confusion_matrix(y_test, y_pred_gnb),\n",
    "    columns=pd.MultiIndex.from_product([['Prediction'], ['Negative', 'Positive']]),\n",
    "    index=pd.MultiIndex.from_product([['Actual'], ['Negative', 'Positive']])\n",
    ")"
   ]
  },
  {
   "cell_type": "code",
   "execution_count": 95,
   "id": "1dbf85f6-f7f2-4fa2-b402-cabb7a0ee376",
   "metadata": {},
   "outputs": [
    {
     "name": "stdout",
     "output_type": "stream",
     "text": [
      "6691 records were correctly predicted negative (true negative)\n",
      "481 records were correctly predicted positive (true positives)\n",
      "569 records were incorrectly predicted negative (false negative)\n",
      "1302 records were incorrectly predicted positive (false positive)\n",
      "-----------------------------\n",
      "Accuracy: 79.31%\n",
      "Precision: 26.98%\n"
     ]
    }
   ],
   "source": [
    "tn, fp, fn, tp = confusion_matrix(y_test, y_pred_gnb).ravel()\n",
    "print('{} records were correctly predicted negative (true negative)'.format(tn))\n",
    "print('{} records were correctly predicted positive (true positives)'.format(tp))\n",
    "print('{} records were incorrectly predicted negative (false negative)'.format(fn))\n",
    "print('{} records were incorrectly predicted positive (false positive)'.format(fp))\n",
    "print('-----------------------------')\n",
    "print('Accuracy: {:.2f}%'.format(accuracy_score(y_test, y_pred_gnb) * 100))\n",
    "print('Precision: {:.2f}%'.format(precision_score(y_test, y_pred_gnb) * 100))"
   ]
  },
  {
   "cell_type": "markdown",
   "id": "38ff03bd-6e78-4541-91b3-a28c7f173256",
   "metadata": {},
   "source": [
    "## Training the Decision Tree model"
   ]
  },
  {
   "cell_type": "code",
   "execution_count": 99,
   "id": "298febb6-47c8-4247-92d8-d11e12488162",
   "metadata": {},
   "outputs": [
    {
     "name": "stdout",
     "output_type": "stream",
     "text": [
      "Prediction of observation 5 in the test data: [0]\n"
     ]
    }
   ],
   "source": [
    "from sklearn.tree import DecisionTreeClassifier\n",
    "\n",
    "dt_clf = DecisionTreeClassifier(criterion='entropy', random_state=0)\n",
    "dt_clf.fit(X_train, y_train)\n",
    "\n",
    "print('Prediction of observation 5 in the test data: {}'.format(dt_clf.predict(X_test[[6]])))"
   ]
  },
  {
   "cell_type": "code",
   "execution_count": 100,
   "id": "d3dec7d4-3f07-4f8d-9b9d-901447a216d9",
   "metadata": {},
   "outputs": [
    {
     "data": {
      "text/html": [
       "<div>\n",
       "<style scoped>\n",
       "    .dataframe tbody tr th:only-of-type {\n",
       "        vertical-align: middle;\n",
       "    }\n",
       "\n",
       "    .dataframe tbody tr th {\n",
       "        vertical-align: top;\n",
       "    }\n",
       "\n",
       "    .dataframe thead tr th {\n",
       "        text-align: left;\n",
       "    }\n",
       "</style>\n",
       "<table border=\"1\" class=\"dataframe\">\n",
       "  <thead>\n",
       "    <tr>\n",
       "      <th></th>\n",
       "      <th></th>\n",
       "      <th colspan=\"2\" halign=\"left\">Prediction</th>\n",
       "    </tr>\n",
       "    <tr>\n",
       "      <th></th>\n",
       "      <th></th>\n",
       "      <th>Negative</th>\n",
       "      <th>Positive</th>\n",
       "    </tr>\n",
       "  </thead>\n",
       "  <tbody>\n",
       "    <tr>\n",
       "      <th rowspan=\"2\" valign=\"top\">Actual</th>\n",
       "      <th>Negative</th>\n",
       "      <td>7203</td>\n",
       "      <td>790</td>\n",
       "    </tr>\n",
       "    <tr>\n",
       "      <th>Positive</th>\n",
       "      <td>676</td>\n",
       "      <td>374</td>\n",
       "    </tr>\n",
       "  </tbody>\n",
       "</table>\n",
       "</div>"
      ],
      "text/plain": [
       "                Prediction         \n",
       "                  Negative Positive\n",
       "Actual Negative       7203      790\n",
       "       Positive        676      374"
      ]
     },
     "execution_count": 100,
     "metadata": {},
     "output_type": "execute_result"
    }
   ],
   "source": [
    "y_pred_dt = dt_clf.predict(X_test)\n",
    "\n",
    "pd.DataFrame(\n",
    "    confusion_matrix(y_test, y_pred_dt),\n",
    "    columns=pd.MultiIndex.from_product([['Prediction'], ['Negative', 'Positive']]),\n",
    "    index=pd.MultiIndex.from_product([['Actual'], ['Negative', 'Positive']])\n",
    ")"
   ]
  },
  {
   "cell_type": "code",
   "execution_count": 101,
   "id": "0c5f3490-e2b8-4488-a474-46e6cd6817c5",
   "metadata": {},
   "outputs": [
    {
     "name": "stdout",
     "output_type": "stream",
     "text": [
      "7203 records were correctly predicted negative (true negative)\n",
      "374 records were correctly predicted positive (true positives)\n",
      "676 records were incorrectly predicted negative (false negative)\n",
      "790 records were incorrectly predicted positive (false positive)\n",
      "-----------------------------\n",
      "Accuracy: 83.79%\n",
      "Precision: 32.13%\n"
     ]
    }
   ],
   "source": [
    "tn, fp, fn, tp = confusion_matrix(y_test, y_pred_dt).ravel()\n",
    "print('{} records were correctly predicted negative (true negative)'.format(tn))\n",
    "print('{} records were correctly predicted positive (true positives)'.format(tp))\n",
    "print('{} records were incorrectly predicted negative (false negative)'.format(fn))\n",
    "print('{} records were incorrectly predicted positive (false positive)'.format(fp))\n",
    "print('-----------------------------')\n",
    "print('Accuracy: {:.2f}%'.format(accuracy_score(y_test, y_pred_dt) * 100))\n",
    "print('Precision: {:.2f}%'.format(precision_score(y_test, y_pred_dt) * 100))"
   ]
  },
  {
   "cell_type": "markdown",
   "id": "d65f4c39-484a-4aed-9e51-a034f3d9e147",
   "metadata": {},
   "source": [
    "## Training the Random Forest model"
   ]
  },
  {
   "cell_type": "code",
   "execution_count": 102,
   "id": "84761177-a7a8-47af-92a3-45af4e053a09",
   "metadata": {},
   "outputs": [
    {
     "name": "stdout",
     "output_type": "stream",
     "text": [
      "Prediction of observation 5 in the test data: [0]\n"
     ]
    }
   ],
   "source": [
    "from sklearn.ensemble import RandomForestClassifier\n",
    "\n",
    "rf_clf = RandomForestClassifier(n_estimators=10, criterion='entropy', random_state=0)\n",
    "rf_clf.fit(X_train, y_train)\n",
    "\n",
    "print('Prediction of observation 5 in the test data: {}'.format(rf_clf.predict(X_test[[6]])))"
   ]
  },
  {
   "cell_type": "code",
   "execution_count": 103,
   "id": "ed927ebc-df53-4956-a51e-9a6c381c266c",
   "metadata": {},
   "outputs": [
    {
     "data": {
      "text/html": [
       "<div>\n",
       "<style scoped>\n",
       "    .dataframe tbody tr th:only-of-type {\n",
       "        vertical-align: middle;\n",
       "    }\n",
       "\n",
       "    .dataframe tbody tr th {\n",
       "        vertical-align: top;\n",
       "    }\n",
       "\n",
       "    .dataframe thead tr th {\n",
       "        text-align: left;\n",
       "    }\n",
       "</style>\n",
       "<table border=\"1\" class=\"dataframe\">\n",
       "  <thead>\n",
       "    <tr>\n",
       "      <th></th>\n",
       "      <th></th>\n",
       "      <th colspan=\"2\" halign=\"left\">Prediction</th>\n",
       "    </tr>\n",
       "    <tr>\n",
       "      <th></th>\n",
       "      <th></th>\n",
       "      <th>Negative</th>\n",
       "      <th>Positive</th>\n",
       "    </tr>\n",
       "  </thead>\n",
       "  <tbody>\n",
       "    <tr>\n",
       "      <th rowspan=\"2\" valign=\"top\">Actual</th>\n",
       "      <th>Negative</th>\n",
       "      <td>7203</td>\n",
       "      <td>790</td>\n",
       "    </tr>\n",
       "    <tr>\n",
       "      <th>Positive</th>\n",
       "      <td>676</td>\n",
       "      <td>374</td>\n",
       "    </tr>\n",
       "  </tbody>\n",
       "</table>\n",
       "</div>"
      ],
      "text/plain": [
       "                Prediction         \n",
       "                  Negative Positive\n",
       "Actual Negative       7203      790\n",
       "       Positive        676      374"
      ]
     },
     "execution_count": 103,
     "metadata": {},
     "output_type": "execute_result"
    }
   ],
   "source": [
    "y_pred_rf = dt_clf.predict(X_test)\n",
    "\n",
    "pd.DataFrame(\n",
    "    confusion_matrix(y_test, y_pred_rf),\n",
    "    columns=pd.MultiIndex.from_product([['Prediction'], ['Negative', 'Positive']]),\n",
    "    index=pd.MultiIndex.from_product([['Actual'], ['Negative', 'Positive']])\n",
    ")"
   ]
  },
  {
   "cell_type": "code",
   "execution_count": 104,
   "id": "18143552-7072-47d9-88ed-530087093dfe",
   "metadata": {},
   "outputs": [
    {
     "name": "stdout",
     "output_type": "stream",
     "text": [
      "7203 records were correctly predicted negative (true negative)\n",
      "374 records were correctly predicted positive (true positives)\n",
      "676 records were incorrectly predicted negative (false negative)\n",
      "790 records were incorrectly predicted positive (false positive)\n",
      "-----------------------------\n",
      "Accuracy: 83.79%\n",
      "Precision: 32.13%\n"
     ]
    }
   ],
   "source": [
    "tn, fp, fn, tp = confusion_matrix(y_test, y_pred_rf).ravel()\n",
    "print('{} records were correctly predicted negative (true negative)'.format(tn))\n",
    "print('{} records were correctly predicted positive (true positives)'.format(tp))\n",
    "print('{} records were incorrectly predicted negative (false negative)'.format(fn))\n",
    "print('{} records were incorrectly predicted positive (false positive)'.format(fp))\n",
    "print('-----------------------------')\n",
    "print('Accuracy: {:.2f}%'.format(accuracy_score(y_test, y_pred_rf) * 100))\n",
    "print('Precision: {:.2f}%'.format(precision_score(y_test, y_pred_rf) * 100))"
   ]
  }
 ],
 "metadata": {
  "kernelspec": {
   "display_name": "Python 3 (ipykernel)",
   "language": "python",
   "name": "python3"
  },
  "language_info": {
   "codemirror_mode": {
    "name": "ipython",
    "version": 3
   },
   "file_extension": ".py",
   "mimetype": "text/x-python",
   "name": "python",
   "nbconvert_exporter": "python",
   "pygments_lexer": "ipython3",
   "version": "3.9.7"
  }
 },
 "nbformat": 4,
 "nbformat_minor": 5
}
