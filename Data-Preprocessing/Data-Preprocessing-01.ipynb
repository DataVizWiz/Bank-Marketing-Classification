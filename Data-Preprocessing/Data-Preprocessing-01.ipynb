{
 "cells": [
  {
   "cell_type": "code",
   "execution_count": 1,
   "id": "41e9678b-3129-44c2-bcb7-91075edc6914",
   "metadata": {},
   "outputs": [],
   "source": [
    "import pandas as pd\n",
    "import numpy as np\n",
    "import seaborn as sns\n",
    "import matplotlib.pyplot as plt"
   ]
  },
  {
   "cell_type": "code",
   "execution_count": 2,
   "id": "0ab65a78-4d4a-4d4d-ae3b-39575f872956",
   "metadata": {},
   "outputs": [
    {
     "data": {
      "text/html": [
       "<div>\n",
       "<style scoped>\n",
       "    .dataframe tbody tr th:only-of-type {\n",
       "        vertical-align: middle;\n",
       "    }\n",
       "\n",
       "    .dataframe tbody tr th {\n",
       "        vertical-align: top;\n",
       "    }\n",
       "\n",
       "    .dataframe thead th {\n",
       "        text-align: right;\n",
       "    }\n",
       "</style>\n",
       "<table border=\"1\" class=\"dataframe\">\n",
       "  <thead>\n",
       "    <tr style=\"text-align: right;\">\n",
       "      <th></th>\n",
       "      <th>age</th>\n",
       "      <th>job</th>\n",
       "      <th>marital</th>\n",
       "      <th>education</th>\n",
       "      <th>default</th>\n",
       "      <th>balance</th>\n",
       "      <th>housing</th>\n",
       "      <th>loan</th>\n",
       "      <th>y</th>\n",
       "    </tr>\n",
       "  </thead>\n",
       "  <tbody>\n",
       "    <tr>\n",
       "      <th>0</th>\n",
       "      <td>58</td>\n",
       "      <td>management</td>\n",
       "      <td>married</td>\n",
       "      <td>tertiary</td>\n",
       "      <td>no</td>\n",
       "      <td>2143</td>\n",
       "      <td>yes</td>\n",
       "      <td>no</td>\n",
       "      <td>no</td>\n",
       "    </tr>\n",
       "    <tr>\n",
       "      <th>1</th>\n",
       "      <td>44</td>\n",
       "      <td>technician</td>\n",
       "      <td>single</td>\n",
       "      <td>secondary</td>\n",
       "      <td>no</td>\n",
       "      <td>29</td>\n",
       "      <td>yes</td>\n",
       "      <td>no</td>\n",
       "      <td>no</td>\n",
       "    </tr>\n",
       "    <tr>\n",
       "      <th>2</th>\n",
       "      <td>33</td>\n",
       "      <td>entrepreneur</td>\n",
       "      <td>married</td>\n",
       "      <td>secondary</td>\n",
       "      <td>no</td>\n",
       "      <td>2</td>\n",
       "      <td>yes</td>\n",
       "      <td>yes</td>\n",
       "      <td>no</td>\n",
       "    </tr>\n",
       "    <tr>\n",
       "      <th>3</th>\n",
       "      <td>47</td>\n",
       "      <td>blue-collar</td>\n",
       "      <td>married</td>\n",
       "      <td>unknown</td>\n",
       "      <td>no</td>\n",
       "      <td>1506</td>\n",
       "      <td>yes</td>\n",
       "      <td>no</td>\n",
       "      <td>no</td>\n",
       "    </tr>\n",
       "    <tr>\n",
       "      <th>4</th>\n",
       "      <td>33</td>\n",
       "      <td>unknown</td>\n",
       "      <td>single</td>\n",
       "      <td>unknown</td>\n",
       "      <td>no</td>\n",
       "      <td>1</td>\n",
       "      <td>no</td>\n",
       "      <td>no</td>\n",
       "      <td>no</td>\n",
       "    </tr>\n",
       "  </tbody>\n",
       "</table>\n",
       "</div>"
      ],
      "text/plain": [
       "   age           job  marital  education default  balance housing loan   y\n",
       "0   58    management  married   tertiary      no     2143     yes   no  no\n",
       "1   44    technician   single  secondary      no       29     yes   no  no\n",
       "2   33  entrepreneur  married  secondary      no        2     yes  yes  no\n",
       "3   47   blue-collar  married    unknown      no     1506     yes   no  no\n",
       "4   33       unknown   single    unknown      no        1      no   no  no"
      ]
     },
     "execution_count": 2,
     "metadata": {},
     "output_type": "execute_result"
    }
   ],
   "source": [
    "df = pd.read_csv('data/customers.csv', sep=';')\n",
    "df = df.drop(columns=['duration', 'day', 'month', 'campaign', 'pdays', 'previous', 'poutcome', 'contact'])\n",
    "df.head()"
   ]
  },
  {
   "cell_type": "code",
   "execution_count": 3,
   "id": "748983f2-8ebe-45b2-b347-7e11baa4895d",
   "metadata": {},
   "outputs": [
    {
     "data": {
      "text/plain": [
       "array([[58, 'management', 'married', ..., 2143, 'yes', 'no'],\n",
       "       [44, 'technician', 'single', ..., 29, 'yes', 'no'],\n",
       "       [33, 'entrepreneur', 'married', ..., 2, 'yes', 'yes'],\n",
       "       ...,\n",
       "       [72, 'retired', 'married', ..., 5715, 'no', 'no'],\n",
       "       [57, 'blue-collar', 'married', ..., 668, 'no', 'no'],\n",
       "       [37, 'entrepreneur', 'married', ..., 2971, 'no', 'no']],\n",
       "      dtype=object)"
      ]
     },
     "execution_count": 3,
     "metadata": {},
     "output_type": "execute_result"
    }
   ],
   "source": [
    "X = df.iloc[:, :-1].values\n",
    "X"
   ]
  },
  {
   "cell_type": "code",
   "execution_count": 4,
   "id": "4905b2bc-336e-4b1e-b994-2e54632713e3",
   "metadata": {},
   "outputs": [
    {
     "data": {
      "text/plain": [
       "array(['no', 'no', 'no', ..., 'yes', 'no', 'no'], dtype=object)"
      ]
     },
     "execution_count": 4,
     "metadata": {},
     "output_type": "execute_result"
    }
   ],
   "source": [
    "y = df.iloc[:, -1].values\n",
    "y"
   ]
  },
  {
   "cell_type": "markdown",
   "id": "0b5d56c0-ef4c-4779-8e55-8a91bb7a95db",
   "metadata": {},
   "source": [
    "## Encoding categorical data"
   ]
  },
  {
   "cell_type": "markdown",
   "id": "fa655b76-a190-4119-976b-e399d452e0b3",
   "metadata": {},
   "source": [
    "How do we want to encode this?\n",
    "\n",
    "One-hot encoding:\n",
    "- job\n",
    "- marital\n",
    "\n",
    "Ordinal encoding:\n",
    "- education\n",
    "- default\n",
    "- housing\n",
    "- loan"
   ]
  },
  {
   "cell_type": "code",
   "execution_count": 5,
   "id": "d94fce6a-96a7-4f40-afd7-9bcc9c71ffcb",
   "metadata": {},
   "outputs": [
    {
     "data": {
      "text/plain": [
       "array([[0.0, 0.0, 0.0, ..., 0.0, 58, 2143],\n",
       "       [0.0, 0.0, 0.0, ..., 0.0, 44, 29],\n",
       "       [0.0, 0.0, 1.0, ..., 1.0, 33, 2],\n",
       "       ...,\n",
       "       [0.0, 0.0, 0.0, ..., 0.0, 72, 5715],\n",
       "       [0.0, 1.0, 0.0, ..., 0.0, 57, 668],\n",
       "       [0.0, 0.0, 1.0, ..., 0.0, 37, 2971]], dtype=object)"
      ]
     },
     "execution_count": 5,
     "metadata": {},
     "output_type": "execute_result"
    }
   ],
   "source": [
    "from sklearn.compose import ColumnTransformer\n",
    "from sklearn.preprocessing import OneHotEncoder\n",
    "from sklearn.preprocessing import OrdinalEncoder\n",
    "\n",
    "nominal = [1, 2]\n",
    "ordinal = [3, 4, 6, 7]\n",
    "\n",
    "ct = ColumnTransformer(\n",
    "    transformers=[\n",
    "        ('onehot_encoder', OneHotEncoder(), nominal),\n",
    "        ('ordinal_encoder', OrdinalEncoder(), ordinal)\n",
    "    ],\n",
    "    remainder='passthrough'\n",
    ")\n",
    "\n",
    "X = np.array(ct.fit_transform(X))\n",
    "pd.DataFrame(X).to_csv('data/data-preprocessing/X_encoded_01.csv')\n",
    "X"
   ]
  },
  {
   "cell_type": "code",
   "execution_count": 6,
   "id": "1971aa7e-be80-4fa8-bbe6-b8b15a91854f",
   "metadata": {},
   "outputs": [
    {
     "data": {
      "text/plain": [
       "array([0, 0, 0, ..., 1, 0, 0])"
      ]
     },
     "execution_count": 6,
     "metadata": {},
     "output_type": "execute_result"
    }
   ],
   "source": [
    "from sklearn.preprocessing import LabelEncoder\n",
    "\n",
    "lab_enc = LabelEncoder()\n",
    "y = lab_enc.fit_transform(y)\n",
    "y"
   ]
  },
  {
   "cell_type": "code",
   "execution_count": 7,
   "id": "52aa8bde-e7a9-4cfe-9faa-22e4b5b2728f",
   "metadata": {},
   "outputs": [],
   "source": [
    "from sklearn.model_selection import train_test_split\n",
    "\n",
    "X_train, X_test, y_train, y_test = train_test_split(X, y, test_size=0.2, random_state=1)"
   ]
  },
  {
   "cell_type": "markdown",
   "id": "87352c3b-6fd9-4147-affd-05a138c5bd89",
   "metadata": {},
   "source": [
    "## Distribution"
   ]
  },
  {
   "cell_type": "code",
   "execution_count": 8,
   "id": "8deae66b-2cab-49e4-a9ba-cb05c5ab3f81",
   "metadata": {},
   "outputs": [
    {
     "data": {
      "text/html": [
       "<div>\n",
       "<style scoped>\n",
       "    .dataframe tbody tr th:only-of-type {\n",
       "        vertical-align: middle;\n",
       "    }\n",
       "\n",
       "    .dataframe tbody tr th {\n",
       "        vertical-align: top;\n",
       "    }\n",
       "\n",
       "    .dataframe thead th {\n",
       "        text-align: right;\n",
       "    }\n",
       "</style>\n",
       "<table border=\"1\" class=\"dataframe\">\n",
       "  <thead>\n",
       "    <tr style=\"text-align: right;\">\n",
       "      <th></th>\n",
       "      <th>age</th>\n",
       "      <th>balance</th>\n",
       "    </tr>\n",
       "  </thead>\n",
       "  <tbody>\n",
       "    <tr>\n",
       "      <th>count</th>\n",
       "      <td>45211.0</td>\n",
       "      <td>45211.0</td>\n",
       "    </tr>\n",
       "    <tr>\n",
       "      <th>mean</th>\n",
       "      <td>41.0</td>\n",
       "      <td>1362.0</td>\n",
       "    </tr>\n",
       "    <tr>\n",
       "      <th>std</th>\n",
       "      <td>11.0</td>\n",
       "      <td>3045.0</td>\n",
       "    </tr>\n",
       "    <tr>\n",
       "      <th>min</th>\n",
       "      <td>18.0</td>\n",
       "      <td>-8019.0</td>\n",
       "    </tr>\n",
       "    <tr>\n",
       "      <th>25%</th>\n",
       "      <td>33.0</td>\n",
       "      <td>72.0</td>\n",
       "    </tr>\n",
       "    <tr>\n",
       "      <th>50%</th>\n",
       "      <td>39.0</td>\n",
       "      <td>448.0</td>\n",
       "    </tr>\n",
       "    <tr>\n",
       "      <th>75%</th>\n",
       "      <td>48.0</td>\n",
       "      <td>1428.0</td>\n",
       "    </tr>\n",
       "    <tr>\n",
       "      <th>max</th>\n",
       "      <td>95.0</td>\n",
       "      <td>102127.0</td>\n",
       "    </tr>\n",
       "  </tbody>\n",
       "</table>\n",
       "</div>"
      ],
      "text/plain": [
       "           age   balance\n",
       "count  45211.0   45211.0\n",
       "mean      41.0    1362.0\n",
       "std       11.0    3045.0\n",
       "min       18.0   -8019.0\n",
       "25%       33.0      72.0\n",
       "50%       39.0     448.0\n",
       "75%       48.0    1428.0\n",
       "max       95.0  102127.0"
      ]
     },
     "execution_count": 8,
     "metadata": {},
     "output_type": "execute_result"
    }
   ],
   "source": [
    "df.describe().round()"
   ]
  },
  {
   "cell_type": "code",
   "execution_count": 9,
   "id": "34664067-a86b-4382-851f-7276d3eeb6c8",
   "metadata": {},
   "outputs": [
    {
     "name": "stdout",
     "output_type": "stream",
     "text": [
      "Mean: 40.94\n",
      "Std: 10.62\n"
     ]
    },
    {
     "data": {
      "image/png": "[encoded data removed]",
      "text/plain": [
       "<Figure size 864x576 with 1 Axes>"
      ]
     },
     "metadata": {
      "needs_background": "light"
     },
     "output_type": "display_data"
    }
   ],
   "source": [
    "print('Mean: {:.2f}'.format(df.age.mean()))\n",
    "print('Std: {:.2f}'.format(df.age.std()))\n",
    "\n",
    "plt.figure(figsize=(12, 8))\n",
    "plt.title('Distribution of Age')\n",
    "sns.histplot(data=df, x='age', kde=True);"
   ]
  },
  {
   "cell_type": "code",
   "execution_count": 10,
   "id": "d3c0a871-c225-4d3c-af3c-3c6f0ab2ea9e",
   "metadata": {},
   "outputs": [
    {
     "name": "stdout",
     "output_type": "stream",
     "text": [
      "Mean: 1362.27\n",
      "Std: 3044.77\n"
     ]
    },
    {
     "data": {
      "image/png": "[encoded data removed]",
      "text/plain": [
       "<Figure size 864x576 with 1 Axes>"
      ]
     },
     "metadata": {
      "needs_background": "light"
     },
     "output_type": "display_data"
    }
   ],
   "source": [
    "print('Mean: {:.2f}'.format(df.balance.mean()))\n",
    "print('Std: {:.2f}'.format(df.balance.std()))\n",
    "\n",
    "plt.figure(figsize=(12, 8))\n",
    "plt.title('Distribution of Balance')\n",
    "sns.histplot(data=df, x='balance', kde=True, bins=150);"
   ]
  },
  {
   "cell_type": "markdown",
   "id": "829a7454-f557-4d24-bb74-ba42ab0be8b1",
   "metadata": {},
   "source": [
    "## Standardization (Standard Scaler)"
   ]
  },
  {
   "cell_type": "code",
   "execution_count": 11,
   "id": "e1e222fe-f612-4a97-9cab-e547e3047132",
   "metadata": {},
   "outputs": [
    {
     "data": {
      "text/plain": [
       "array([[0.0, 0.0, 0.0, ..., 0.0, 1.0428590360673058,\n",
       "        -0.44232921904148004],\n",
       "       [1.0, 0.0, 0.0, ..., 0.0, 0.8543918539891555, -0.335575605307611],\n",
       "       [0.0, 1.0, 0.0, ..., 0.0, 0.38322389879377955,\n",
       "        -0.34528047928341726],\n",
       "       ...,\n",
       "       [0.0, 0.0, 0.0, ..., 0.0, 0.6659246719110051, 0.913441675378657],\n",
       "       [1.0, 0.0, 0.0, ..., 0.0, 0.38322389879377955, 0.1344637909206064],\n",
       "       [0.0, 1.0, 0.0, ..., 0.0, 0.38322389879377955,\n",
       "        -0.3294291851229337]], dtype=object)"
      ]
     },
     "execution_count": 11,
     "metadata": {},
     "output_type": "execute_result"
    }
   ],
   "source": [
    "from sklearn.preprocessing import StandardScaler\n",
    "\n",
    "stand = StandardScaler()\n",
    "X_train[:, -2:] = stand.fit_transform(X_train[:, -2:])\n",
    "X_train"
   ]
  },
  {
   "cell_type": "code",
   "execution_count": 12,
   "id": "3dec5cee-321e-4aa1-9baa-d90347f17a31",
   "metadata": {},
   "outputs": [
    {
     "data": {
      "text/plain": [
       "array([[0.0, 1.0, 0.0, ..., 0.0, 0.100523125676554, 0.37255669912705375],\n",
       "       [0.0, 0.0, 0.0, ..., 0.0, -0.37064482951882194,\n",
       "        0.2722730013770555],\n",
       "       [1.0, 0.0, 0.0, ..., 0.0, -0.8418127847141978,\n",
       "        -0.14374259638584022],\n",
       "       ...,\n",
       "       [0.0, 0.0, 0.0, ..., 0.0, 0.28899030775470436,\n",
       "        -0.016285251503584446],\n",
       "       [0.0, 0.0, 0.0, ..., 0.0, -0.9360463757532731,\n",
       "        -0.34366300028744956],\n",
       "       [0.0, 0.0, 0.0, ..., 0.0, -1.2187471488704986,\n",
       "        0.002154009050447482]], dtype=object)"
      ]
     },
     "execution_count": 12,
     "metadata": {},
     "output_type": "execute_result"
    }
   ],
   "source": [
    "X_test[:, -2:] = stand.transform(X_test[:, -2:])\n",
    "X_test"
   ]
  },
  {
   "cell_type": "code",
   "execution_count": 13,
   "id": "36aef634-be45-4c03-9c42-e1edb0a3eaa0",
   "metadata": {},
   "outputs": [],
   "source": [
    "pd.DataFrame(X_train).to_csv('data/train/x_train_sc_01.csv', index=False)\n",
    "pd.DataFrame(X_test).to_csv('data/test/x_test_sc_01.csv', index=False)\n",
    "\n",
    "pd.DataFrame(y_train).to_csv('data/train/y_train_sc_01.csv', index=False)\n",
    "pd.DataFrame(y_test).to_csv('data/test/y_test_sc_01.csv', index=False)"
   ]
  },
  {
   "cell_type": "markdown",
   "id": "4f46258e-815a-4a37-bdbd-5acae7a64301",
   "metadata": {},
   "source": [
    "## Normalization (MinMax Scaler)"
   ]
  },
  {
   "cell_type": "code",
   "execution_count": 14,
   "id": "bb266c2a-0fa5-4185-8975-dbd64bd07e9e",
   "metadata": {},
   "outputs": [
    {
     "data": {
      "text/plain": [
       "array([[0.0, 0.0, 0.0, ..., 0.0, 0.4415584415584416, 0.0628315010920036],\n",
       "       [1.0, 0.0, 0.0, ..., 0.0, 0.4155844155844156, 0.06585974636151742],\n",
       "       [0.0, 1.0, 0.0, ..., 0.0, 0.35064935064935066,\n",
       "        0.06558445133701617],\n",
       "       ...,\n",
       "       [0.0, 0.0, 0.0, ..., 0.0, 0.38961038961038963,\n",
       "        0.10129021601482922],\n",
       "       [1.0, 0.0, 0.0, ..., 0.0, 0.35064935064935066,\n",
       "        0.07919320204819498],\n",
       "       [0.0, 1.0, 0.0, ..., 0.0, 0.35064935064935066,\n",
       "        0.06603409987703489]], dtype=object)"
      ]
     },
     "execution_count": 14,
     "metadata": {},
     "output_type": "execute_result"
    }
   ],
   "source": [
    "from sklearn.preprocessing import MinMaxScaler\n",
    "\n",
    "norm = MinMaxScaler()\n",
    "\n",
    "X_train[:, -2:] = norm.fit_transform(X_train[:, -2:])\n",
    "X_train"
   ]
  },
  {
   "cell_type": "code",
   "execution_count": 15,
   "id": "eac74046-9cb1-4676-8db8-ea29bd21160c",
   "metadata": {},
   "outputs": [
    {
     "data": {
      "text/plain": [
       "array([[0.0, 1.0, 0.0, ..., 0.0, 0.3116883116883117, 0.08594710664929249],\n",
       "       [0.0, 0.0, 0.0, ..., 0.0, 0.24675324675324678,\n",
       "        0.08310239139611283],\n",
       "       [1.0, 0.0, 0.0, ..., 0.0, 0.18181818181818185,\n",
       "        0.07130141134582561],\n",
       "       ...,\n",
       "       [0.0, 0.0, 0.0, ..., 0.0, 0.33766233766233766,\n",
       "        0.07491695266760878],\n",
       "       [0.0, 0.0, 0.0, ..., 0.0, 0.16883116883116886,\n",
       "        0.06563033384109972],\n",
       "       [0.0, 0.0, 0.0, ..., 0.0, 0.1298701298701299, 0.07544001321416118]],\n",
       "      dtype=object)"
      ]
     },
     "execution_count": 15,
     "metadata": {},
     "output_type": "execute_result"
    }
   ],
   "source": [
    "X_test[:, -2:] = norm.transform(X_test[:, -2:])\n",
    "X_test"
   ]
  },
  {
   "cell_type": "code",
   "execution_count": 16,
   "id": "989cd3cb-267a-4c3f-a3bf-0904b80b8e95",
   "metadata": {},
   "outputs": [],
   "source": [
    "df_x_train_norm = pd.DataFrame(X_train[:, -2:], columns=['age', 'balance'])\n",
    "df_x_test_norm = pd.DataFrame(X_test[:, -2:], columns=['age', 'balance'])"
   ]
  },
  {
   "cell_type": "code",
   "execution_count": 17,
   "id": "f220f06e-862b-42a2-8cbb-598168c9f5bd",
   "metadata": {},
   "outputs": [
    {
     "name": "stdout",
     "output_type": "stream",
     "text": [
      "Normalized training age with mean 0.30 and a std of 0.14\n",
      "Normalized testing age with mean 0.30 and a std of 0.14\n"
     ]
    },
    {
     "data": {
      "image/png": "[encoded data removed]",
      "text/plain": [
       "<Figure size 1440x576 with 2 Axes>"
      ]
     },
     "metadata": {
      "needs_background": "light"
     },
     "output_type": "display_data"
    }
   ],
   "source": [
    "print('Normalized training age with mean {:.2f} and a std of {:.2f}'.format(df_x_train_norm.age.mean(), df_x_test_norm.age.std()))\n",
    "print('Normalized testing age with mean {:.2f} and a std of {:.2f}'.format(df_x_test_norm.age.mean(), df_x_train_norm.age.std()))\n",
    "\n",
    "fig, ax = plt.subplots(1, 2, figsize=(20, 8))\n",
    "sns.histplot(data=df_x_train_norm, x='age', kde=True, ax=ax[0]).set_title('Distribution of Age (Training)')\n",
    "sns.histplot(data=df_x_test_norm, x='age', kde=True, ax=ax[1]).set_title('Distribution of Age (Testing)');"
   ]
  },
  {
   "cell_type": "code",
   "execution_count": null,
   "id": "e1b518cb-5f59-48f6-8513-2da86a251878",
   "metadata": {},
   "outputs": [],
   "source": []
  },
  {
   "cell_type": "code",
   "execution_count": null,
   "id": "5fd54b1e-d748-4a7b-94b1-34b445abcac4",
   "metadata": {},
   "outputs": [],
   "source": []
  }
 ],
 "metadata": {
  "kernelspec": {
   "display_name": "Python 3 (ipykernel)",
   "language": "python",
   "name": "python3"
  },
  "language_info": {
   "codemirror_mode": {
    "name": "ipython",
    "version": 3
   },
   "file_extension": ".py",
   "mimetype": "text/x-python",
   "name": "python",
   "nbconvert_exporter": "python",
   "pygments_lexer": "ipython3",
   "version": "3.9.7"
  }
 },
 "nbformat": 4,
 "nbformat_minor": 5
}
