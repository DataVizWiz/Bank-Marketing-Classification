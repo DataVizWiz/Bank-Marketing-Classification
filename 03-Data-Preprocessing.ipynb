{
 "cells": [
  {
   "cell_type": "code",
   "execution_count": 1,
   "id": "61254ce9-7cec-4a1e-bf9b-49dd413370b9",
   "metadata": {},
   "outputs": [],
   "source": [
    "import pandas as pd\n",
    "import numpy as np"
   ]
  },
  {
   "cell_type": "code",
   "execution_count": 2,
   "id": "fa3f2bc2-4f66-4554-92e6-27a0b7a0a86e",
   "metadata": {},
   "outputs": [
    {
     "data": {
      "text/html": [
       "<div>\n",
       "<style scoped>\n",
       "    .dataframe tbody tr th:only-of-type {\n",
       "        vertical-align: middle;\n",
       "    }\n",
       "\n",
       "    .dataframe tbody tr th {\n",
       "        vertical-align: top;\n",
       "    }\n",
       "\n",
       "    .dataframe thead th {\n",
       "        text-align: right;\n",
       "    }\n",
       "</style>\n",
       "<table border=\"1\" class=\"dataframe\">\n",
       "  <thead>\n",
       "    <tr style=\"text-align: right;\">\n",
       "      <th></th>\n",
       "      <th>age</th>\n",
       "      <th>job</th>\n",
       "      <th>marital</th>\n",
       "      <th>education</th>\n",
       "      <th>default</th>\n",
       "      <th>balance</th>\n",
       "      <th>housing</th>\n",
       "      <th>loan</th>\n",
       "      <th>contact</th>\n",
       "      <th>day</th>\n",
       "      <th>month</th>\n",
       "      <th>campaign</th>\n",
       "      <th>pdays</th>\n",
       "      <th>previous</th>\n",
       "      <th>poutcome</th>\n",
       "      <th>y</th>\n",
       "    </tr>\n",
       "  </thead>\n",
       "  <tbody>\n",
       "    <tr>\n",
       "      <th>0</th>\n",
       "      <td>58</td>\n",
       "      <td>management</td>\n",
       "      <td>married</td>\n",
       "      <td>tertiary</td>\n",
       "      <td>no</td>\n",
       "      <td>2143</td>\n",
       "      <td>yes</td>\n",
       "      <td>no</td>\n",
       "      <td>unknown</td>\n",
       "      <td>5</td>\n",
       "      <td>may</td>\n",
       "      <td>1</td>\n",
       "      <td>-1</td>\n",
       "      <td>0</td>\n",
       "      <td>unknown</td>\n",
       "      <td>no</td>\n",
       "    </tr>\n",
       "    <tr>\n",
       "      <th>1</th>\n",
       "      <td>44</td>\n",
       "      <td>technician</td>\n",
       "      <td>single</td>\n",
       "      <td>secondary</td>\n",
       "      <td>no</td>\n",
       "      <td>29</td>\n",
       "      <td>yes</td>\n",
       "      <td>no</td>\n",
       "      <td>unknown</td>\n",
       "      <td>5</td>\n",
       "      <td>may</td>\n",
       "      <td>1</td>\n",
       "      <td>-1</td>\n",
       "      <td>0</td>\n",
       "      <td>unknown</td>\n",
       "      <td>no</td>\n",
       "    </tr>\n",
       "    <tr>\n",
       "      <th>2</th>\n",
       "      <td>33</td>\n",
       "      <td>entrepreneur</td>\n",
       "      <td>married</td>\n",
       "      <td>secondary</td>\n",
       "      <td>no</td>\n",
       "      <td>2</td>\n",
       "      <td>yes</td>\n",
       "      <td>yes</td>\n",
       "      <td>unknown</td>\n",
       "      <td>5</td>\n",
       "      <td>may</td>\n",
       "      <td>1</td>\n",
       "      <td>-1</td>\n",
       "      <td>0</td>\n",
       "      <td>unknown</td>\n",
       "      <td>no</td>\n",
       "    </tr>\n",
       "    <tr>\n",
       "      <th>3</th>\n",
       "      <td>47</td>\n",
       "      <td>blue-collar</td>\n",
       "      <td>married</td>\n",
       "      <td>unknown</td>\n",
       "      <td>no</td>\n",
       "      <td>1506</td>\n",
       "      <td>yes</td>\n",
       "      <td>no</td>\n",
       "      <td>unknown</td>\n",
       "      <td>5</td>\n",
       "      <td>may</td>\n",
       "      <td>1</td>\n",
       "      <td>-1</td>\n",
       "      <td>0</td>\n",
       "      <td>unknown</td>\n",
       "      <td>no</td>\n",
       "    </tr>\n",
       "    <tr>\n",
       "      <th>4</th>\n",
       "      <td>33</td>\n",
       "      <td>unknown</td>\n",
       "      <td>single</td>\n",
       "      <td>unknown</td>\n",
       "      <td>no</td>\n",
       "      <td>1</td>\n",
       "      <td>no</td>\n",
       "      <td>no</td>\n",
       "      <td>unknown</td>\n",
       "      <td>5</td>\n",
       "      <td>may</td>\n",
       "      <td>1</td>\n",
       "      <td>-1</td>\n",
       "      <td>0</td>\n",
       "      <td>unknown</td>\n",
       "      <td>no</td>\n",
       "    </tr>\n",
       "  </tbody>\n",
       "</table>\n",
       "</div>"
      ],
      "text/plain": [
       "   age           job  marital  education default  balance housing loan  \\\n",
       "0   58    management  married   tertiary      no     2143     yes   no   \n",
       "1   44    technician   single  secondary      no       29     yes   no   \n",
       "2   33  entrepreneur  married  secondary      no        2     yes  yes   \n",
       "3   47   blue-collar  married    unknown      no     1506     yes   no   \n",
       "4   33       unknown   single    unknown      no        1      no   no   \n",
       "\n",
       "   contact  day month  campaign  pdays  previous poutcome   y  \n",
       "0  unknown    5   may         1     -1         0  unknown  no  \n",
       "1  unknown    5   may         1     -1         0  unknown  no  \n",
       "2  unknown    5   may         1     -1         0  unknown  no  \n",
       "3  unknown    5   may         1     -1         0  unknown  no  \n",
       "4  unknown    5   may         1     -1         0  unknown  no  "
      ]
     },
     "execution_count": 2,
     "metadata": {},
     "output_type": "execute_result"
    }
   ],
   "source": [
    "df = pd.read_csv('data/customers.csv', sep=';')\n",
    "df = df.drop(columns=['duration'])\n",
    "df.head()"
   ]
  },
  {
   "cell_type": "code",
   "execution_count": 3,
   "id": "eb1caf9c-45fc-411a-84c3-c28369186cb1",
   "metadata": {},
   "outputs": [
    {
     "data": {
      "text/plain": [
       "array([[58, 'management', 'married', ..., -1, 0, 'unknown'],\n",
       "       [44, 'technician', 'single', ..., -1, 0, 'unknown'],\n",
       "       [33, 'entrepreneur', 'married', ..., -1, 0, 'unknown'],\n",
       "       ...,\n",
       "       [72, 'retired', 'married', ..., 184, 3, 'success'],\n",
       "       [57, 'blue-collar', 'married', ..., -1, 0, 'unknown'],\n",
       "       [37, 'entrepreneur', 'married', ..., 188, 11, 'other']],\n",
       "      dtype=object)"
      ]
     },
     "execution_count": 3,
     "metadata": {},
     "output_type": "execute_result"
    }
   ],
   "source": [
    "X = df.iloc[:, :-1].values\n",
    "X"
   ]
  },
  {
   "cell_type": "code",
   "execution_count": 4,
   "id": "3311b0ad-f281-4c09-9900-f8fbc7f872df",
   "metadata": {},
   "outputs": [
    {
     "data": {
      "text/plain": [
       "array(['no', 'no', 'no', ..., 'yes', 'no', 'no'], dtype=object)"
      ]
     },
     "execution_count": 4,
     "metadata": {},
     "output_type": "execute_result"
    }
   ],
   "source": [
    "y = df.iloc[:, -1].values\n",
    "y"
   ]
  },
  {
   "cell_type": "markdown",
   "id": "4327828b-d55e-48ec-bc96-867734f9befe",
   "metadata": {},
   "source": [
    "How do we want to encode this?\n",
    "\n",
    "One-hot encoding:\n",
    "- job\n",
    "- marital\n",
    "- contact\n",
    "- outcome\n",
    "\n",
    "Ordinal encoding:\n",
    "- education\n",
    "- default\n",
    "- housing\n",
    "- loan\n",
    "- month\n",
    "- y\n",
    "\n",
    "No encoding:\n",
    "- age\n",
    "- balance\n",
    "- day\n",
    "- campaign\n",
    "- pdays\n",
    "- previous"
   ]
  },
  {
   "cell_type": "code",
   "execution_count": 9,
   "id": "8df01b54-3081-44d1-832e-0e4df59bf957",
   "metadata": {},
   "outputs": [],
   "source": [
    "from sklearn.compose import ColumnTransformer\n",
    "from sklearn.preprocessing import OneHotEncoder\n",
    "from sklearn.preprocessing import OrdinalEncoder\n",
    "\n",
    "nominal = [1, 2, 8, 14]\n",
    "ordinal = [3, 4, 6, 7, 10]\n",
    "\n",
    "ct = ColumnTransformer(\n",
    "    transformers=[\n",
    "        ('onehot_encoder', OneHotEncoder(), nominal),\n",
    "        ('ordinal_encoder', OrdinalEncoder(), ordinal)\n",
    "    ],\n",
    "    remainder='passthrough'\n",
    ")\n",
    "\n",
    "X = np.array(ct.fit_transform(X))\n",
    "X\n",
    "pd.DataFrame(X).to_csv('data/x_encoded.csv')\n",
    "# os.system('open x_oh_encoded.csv')"
   ]
  },
  {
   "cell_type": "code",
   "execution_count": 10,
   "id": "e5235abb-fc68-4a5c-9d70-0dff6a3da3c3",
   "metadata": {},
   "outputs": [
    {
     "data": {
      "text/plain": [
       "array([0, 0, 0, ..., 1, 0, 0])"
      ]
     },
     "execution_count": 10,
     "metadata": {},
     "output_type": "execute_result"
    }
   ],
   "source": [
    "from sklearn.preprocessing import LabelEncoder\n",
    "\n",
    "lab_enc = LabelEncoder()\n",
    "y = lab_enc.fit_transform(y)\n",
    "y"
   ]
  },
  {
   "cell_type": "code",
   "execution_count": 11,
   "id": "6bca891f-2a55-4c22-932d-280d6e38070d",
   "metadata": {},
   "outputs": [],
   "source": [
    "from sklearn.model_selection import train_test_split\n",
    "\n",
    "X_train, X_test, y_train, y_test = train_test_split(X, y, test_size=0.2, random_state=1)"
   ]
  },
  {
   "cell_type": "code",
   "execution_count": 16,
   "id": "c4a38a29-6542-4aba-897a-16d94d173fc4",
   "metadata": {},
   "outputs": [
    {
     "data": {
      "text/plain": [
       "array([[1.0, 0.0, 0.0, ..., -0.24745481214336104, -0.4100383077247772,\n",
       "        -0.2425228949874718],\n",
       "       [1.0, 0.0, 0.0, ..., -0.5662418342484753, -0.4100383077247772,\n",
       "        -0.2425228949874718],\n",
       "       [0.0, 1.0, 0.0, ..., -0.5662418342484753, 2.2114757997075096,\n",
       "        1.0119321842765145],\n",
       "       ...,\n",
       "       [1.0, 0.0, 0.0, ..., 1.027693276277096, -0.4100383077247772,\n",
       "        -0.2425228949874718],\n",
       "       [1.0, 0.0, 0.0, ..., 2.6216283868026675, -0.4100383077247772,\n",
       "        -0.2425228949874718],\n",
       "       [0.0, 1.0, 0.0, ..., -0.24745481214336104, 2.9619092274075913,\n",
       "        0.593780491188519]], dtype=object)"
      ]
     },
     "execution_count": 16,
     "metadata": {},
     "output_type": "execute_result"
    }
   ],
   "source": [
    "from sklearn.preprocessing import StandardScaler\n",
    "\n",
    "sc = StandardScaler()\n",
    "X_train[:, -7:] = sc.fit_transform(X_train[:, -7:])\n",
    "X_train"
   ]
  },
  {
   "cell_type": "code",
   "execution_count": 17,
   "id": "52e0ebaf-36da-437c-8b15-4c17c215170f",
   "metadata": {},
   "outputs": [
    {
     "data": {
      "text/plain": [
       "array([[0.0, 1.0, 0.0, ..., 0.3901192320668675, -0.4100383077247772,\n",
       "        -0.2425228949874718],\n",
       "       [1.0, 0.0, 0.0, ..., -0.24745481214336104, -0.4100383077247772,\n",
       "        -0.2425228949874718],\n",
       "       [1.0, 0.0, 0.0, ..., 0.3901192320668675, -0.4100383077247772,\n",
       "        -0.2425228949874718],\n",
       "       ...,\n",
       "       [1.0, 0.0, 0.0, ..., 1.027693276277096, -0.4100383077247772,\n",
       "        -0.2425228949874718],\n",
       "       [1.0, 0.0, 0.0, ..., 3.5779894531180103, -0.4100383077247772,\n",
       "        -0.2425228949874718],\n",
       "       [1.0, 0.0, 0.0, ..., 0.3901192320668675, -0.4100383077247772,\n",
       "        -0.2425228949874718]], dtype=object)"
      ]
     },
     "execution_count": 17,
     "metadata": {},
     "output_type": "execute_result"
    }
   ],
   "source": [
    "X_test[:, -7:] = sc.transform(X_test[:, -7:])\n",
    "X_test"
   ]
  },
  {
   "cell_type": "code",
   "execution_count": 37,
   "id": "17d4f090-70db-4a34-8f15-3789bed3a350",
   "metadata": {},
   "outputs": [],
   "source": [
    "pd.DataFrame(X_train).to_csv('data/train/x_train.csv', index=False)\n",
    "pd.DataFrame(X_test).to_csv('data/test/x_test.csv', index=False)\n",
    "\n",
    "pd.DataFrame(y_train).to_csv('data/train/y_train.csv', index=False)\n",
    "pd.DataFrame(y_test).to_csv('data/test/y_test.csv', index=False)"
   ]
  }
 ],
 "metadata": {
  "kernelspec": {
   "display_name": "Python 3 (ipykernel)",
   "language": "python",
   "name": "python3"
  },
  "language_info": {
   "codemirror_mode": {
    "name": "ipython",
    "version": 3
   },
   "file_extension": ".py",
   "mimetype": "text/x-python",
   "name": "python",
   "nbconvert_exporter": "python",
   "pygments_lexer": "ipython3",
   "version": "3.9.7"
  }
 },
 "nbformat": 4,
 "nbformat_minor": 5
}
